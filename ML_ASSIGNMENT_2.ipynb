{
 "cells": [
  {
   "cell_type": "code",
   "execution_count": 7,
   "id": "4f12b2ca",
   "metadata": {},
   "outputs": [
    {
     "name": "stdout",
     "output_type": "stream",
     "text": [
      "* \n",
      "* * \n",
      "* * * \n",
      "* * * * \n",
      "* * * * * \n",
      "* * * * \n",
      "* * * \n",
      "* * \n",
      "* \n",
      "\n"
     ]
    }
   ],
   "source": [
    "# Printing star pattern using for loop\n",
    "x=5;                                  # declaring x=5 as the max no.of stars is 5\n",
    "for i in range(0,x):                  # i for printing 5 rows\n",
    "    for j in range(0,i+1):            # j for printing stars\n",
    "        print(\"*\",end=\" \")\n",
    "    print()                           # for printing blank lines \n",
    "for i in range(x,0,-1):               \n",
    "    for j in range(0,i-1):\n",
    "        print(\"*\",end=\" \")\n",
    "    print()"
   ]
  },
  {
   "cell_type": "code",
   "execution_count": 21,
   "id": "16470546",
   "metadata": {},
   "outputs": [
    {
     "name": "stdout",
     "output_type": "stream",
     "text": [
      "20\n",
      "40\n",
      "60\n",
      "80\n",
      "100\n"
     ]
    }
   ],
   "source": [
    "#Use looping to output the elements from a provided list present at odd indexes.\n",
    "my_list = [10, 20, 30, 40, 50, 60, 70, 80, 90, 100]\n",
    "for i in my_list[1::2]:                                # used slicing to print numbers in odd indexes\n",
    "    print(i)"
   ]
  },
  {
   "cell_type": "code",
   "execution_count": 23,
   "id": "4c363598",
   "metadata": {},
   "outputs": [
    {
     "name": "stdout",
     "output_type": "stream",
     "text": [
      "[23, 'Python', 23.98]\n",
      "[<class 'int'>, <class 'str'>, <class 'float'>]\n"
     ]
    }
   ],
   "source": [
    "#Write a code that appends the type of elements from a given list.\n",
    "\n",
    "X = [23, 'Python', 23.98]\n",
    "O = []                                    # empty list o\n",
    "for i in range(len(X)):                   # iterating from 0 to length of the list\n",
    "    o.append(type(X[i]))                  # appending types of elements in list X to O\n",
    "print (X)\n",
    "print (O)"
   ]
  },
  {
   "cell_type": "code",
   "execution_count": 24,
   "id": "ab6663bf",
   "metadata": {},
   "outputs": [
    {
     "name": "stdout",
     "output_type": "stream",
     "text": [
      "[1, 2, 3, 4, 5]\n"
     ]
    }
   ],
   "source": [
    "#Write a function that takes a list and returns a new list with unique items of the first list.\n",
    "\n",
    "sample_list=[1,2,3,3,3,3,4,5]\n",
    "unique_list=[]                            # creating empty list \n",
    "def ul(sample_list):                      # using function \n",
    "    for i in sample_list:                 # for iterating the elements in sample_list\n",
    "        if i not in unique_list:         \n",
    "            unique_list.append(i)         # appending elements to unique_list if those are not in unique_list\n",
    "    return unique_list\n",
    "print(ul(sample_list))"
   ]
  },
  {
   "cell_type": "code",
   "execution_count": 2,
   "id": "ce2e18a9",
   "metadata": {},
   "outputs": [
    {
     "name": "stdout",
     "output_type": "stream",
     "text": [
      "Input String:  The quick Brow Fox\n",
      "No.of Uppercase charecters:  3\n",
      "No.of lowercase charecters:  12\n"
     ]
    }
   ],
   "source": [
    "#Write a function that accepts a string and calculate the number of upper-case letters and lower-case letters. \n",
    "\n",
    "def letters(string):\n",
    "    ul={\"u_case\":0,\"l_case\":0}            # initialising u_case and l_case to 0\n",
    "    for i in string:                      \n",
    "        if i.isupper():                   # using isupper to check if it is uppercase\n",
    "            ul[\"u_case\"]+=1\n",
    "        elif i.islower():                 # using isupper to check if it is lowercase\n",
    "            ul[\"l_case\"]+=1\n",
    "        else:\n",
    "            pass\n",
    "    print(\"Input String: \", string)\n",
    "    print(\"No.of Uppercase charecters: \", ul[\"u_case\"])\n",
    "    print(\"No.of lowercase charecters: \", ul[\"l_case\"])\n",
    "\n",
    "letters(\"The quick Brow Fox\")             # calling function letters"
   ]
  },
  {
   "cell_type": "code",
   "execution_count": null,
   "id": "037923eb",
   "metadata": {},
   "outputs": [],
   "source": []
  }
 ],
 "metadata": {
  "kernelspec": {
   "display_name": "Python 3 (ipykernel)",
   "language": "python",
   "name": "python3"
  },
  "language_info": {
   "codemirror_mode": {
    "name": "ipython",
    "version": 3
   },
   "file_extension": ".py",
   "mimetype": "text/x-python",
   "name": "python",
   "nbconvert_exporter": "python",
   "pygments_lexer": "ipython3",
   "version": "3.9.5"
  }
 },
 "nbformat": 4,
 "nbformat_minor": 5
}
